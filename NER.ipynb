{
  "nbformat": 4,
  "nbformat_minor": 0,
  "metadata": {
    "colab": {
      "name": "Untitled17.ipynb",
      "provenance": []
    },
    "kernelspec": {
      "name": "python3",
      "display_name": "Python 3"
    },
    "language_info": {
      "name": "python"
    }
  },
  "cells": [
    {
      "cell_type": "markdown",
      "metadata": {
        "id": "KosT5otYbulb"
      },
      "source": [
        "**Named Entity Recognition (NER)**\n",
        "\n",
        "Named Entity Recognition (NER) is the task of classifying tokens according to a class, for example identifying a token as a person, an organisation or a location. "
      ]
    },
    {
      "cell_type": "markdown",
      "metadata": {
        "id": "LLS4ricHiby4"
      },
      "source": [
        "Using the pipelines do to named entity recognition, trying to identify tokens as belonging to one of 9 classes:\n",
        "\n",
        "**O**, Outside of a named entity\n",
        "\n",
        "**B-MIS**, Beginning of a miscellaneous entity right after another miscellaneous entity\n",
        "\n",
        "**I-MIS**, Miscellaneous entity\n",
        "\n",
        "**B-PER**, Beginning of a person’s name right after another person’s name\n",
        "\n",
        "**I-PER**, Person’s name\n",
        "\n",
        "**B-ORG**, Beginning of an organisation right after another organisation\n",
        "\n",
        "**I-ORG**, Organisation\n",
        "\n",
        "**B-LOC**, Beginning of a location right after another location\n",
        "\n",
        "**I-LOC**, Location"
      ]
    },
    {
      "cell_type": "code",
      "metadata": {
        "colab": {
          "base_uri": "https://localhost:8080/"
        },
        "id": "s_PiKkrwb8QP",
        "outputId": "9a70ff8e-e325-4e03-c681-d5e3a4b03212"
      },
      "source": [
        "!pip install transformers"
      ],
      "execution_count": 1,
      "outputs": [
        {
          "output_type": "stream",
          "text": [
            "Collecting transformers\n",
            "  Downloading transformers-4.9.1-py3-none-any.whl (2.6 MB)\n",
            "\u001b[K     |████████████████████████████████| 2.6 MB 5.0 MB/s \n",
            "\u001b[?25hCollecting tokenizers<0.11,>=0.10.1\n",
            "  Downloading tokenizers-0.10.3-cp37-cp37m-manylinux_2_5_x86_64.manylinux1_x86_64.manylinux_2_12_x86_64.manylinux2010_x86_64.whl (3.3 MB)\n",
            "\u001b[K     |████████████████████████████████| 3.3 MB 42.4 MB/s \n",
            "\u001b[?25hCollecting huggingface-hub==0.0.12\n",
            "  Downloading huggingface_hub-0.0.12-py3-none-any.whl (37 kB)\n",
            "Requirement already satisfied: importlib-metadata in /usr/local/lib/python3.7/dist-packages (from transformers) (4.6.1)\n",
            "Collecting pyyaml>=5.1\n",
            "  Downloading PyYAML-5.4.1-cp37-cp37m-manylinux1_x86_64.whl (636 kB)\n",
            "\u001b[K     |████████████████████████████████| 636 kB 61.5 MB/s \n",
            "\u001b[?25hRequirement already satisfied: filelock in /usr/local/lib/python3.7/dist-packages (from transformers) (3.0.12)\n",
            "Requirement already satisfied: requests in /usr/local/lib/python3.7/dist-packages (from transformers) (2.23.0)\n",
            "Requirement already satisfied: tqdm>=4.27 in /usr/local/lib/python3.7/dist-packages (from transformers) (4.41.1)\n",
            "Requirement already satisfied: numpy>=1.17 in /usr/local/lib/python3.7/dist-packages (from transformers) (1.19.5)\n",
            "Requirement already satisfied: packaging in /usr/local/lib/python3.7/dist-packages (from transformers) (21.0)\n",
            "Collecting sacremoses\n",
            "  Downloading sacremoses-0.0.45-py3-none-any.whl (895 kB)\n",
            "\u001b[K     |████████████████████████████████| 895 kB 65.6 MB/s \n",
            "\u001b[?25hRequirement already satisfied: regex!=2019.12.17 in /usr/local/lib/python3.7/dist-packages (from transformers) (2019.12.20)\n",
            "Requirement already satisfied: typing-extensions in /usr/local/lib/python3.7/dist-packages (from huggingface-hub==0.0.12->transformers) (3.7.4.3)\n",
            "Requirement already satisfied: pyparsing>=2.0.2 in /usr/local/lib/python3.7/dist-packages (from packaging->transformers) (2.4.7)\n",
            "Requirement already satisfied: zipp>=0.5 in /usr/local/lib/python3.7/dist-packages (from importlib-metadata->transformers) (3.5.0)\n",
            "Requirement already satisfied: urllib3!=1.25.0,!=1.25.1,<1.26,>=1.21.1 in /usr/local/lib/python3.7/dist-packages (from requests->transformers) (1.24.3)\n",
            "Requirement already satisfied: idna<3,>=2.5 in /usr/local/lib/python3.7/dist-packages (from requests->transformers) (2.10)\n",
            "Requirement already satisfied: certifi>=2017.4.17 in /usr/local/lib/python3.7/dist-packages (from requests->transformers) (2021.5.30)\n",
            "Requirement already satisfied: chardet<4,>=3.0.2 in /usr/local/lib/python3.7/dist-packages (from requests->transformers) (3.0.4)\n",
            "Requirement already satisfied: click in /usr/local/lib/python3.7/dist-packages (from sacremoses->transformers) (7.1.2)\n",
            "Requirement already satisfied: joblib in /usr/local/lib/python3.7/dist-packages (from sacremoses->transformers) (1.0.1)\n",
            "Requirement already satisfied: six in /usr/local/lib/python3.7/dist-packages (from sacremoses->transformers) (1.15.0)\n",
            "Installing collected packages: tokenizers, sacremoses, pyyaml, huggingface-hub, transformers\n",
            "  Attempting uninstall: pyyaml\n",
            "    Found existing installation: PyYAML 3.13\n",
            "    Uninstalling PyYAML-3.13:\n",
            "      Successfully uninstalled PyYAML-3.13\n",
            "Successfully installed huggingface-hub-0.0.12 pyyaml-5.4.1 sacremoses-0.0.45 tokenizers-0.10.3 transformers-4.9.1\n"
          ],
          "name": "stdout"
        }
      ]
    },
    {
      "cell_type": "code",
      "metadata": {
        "colab": {
          "base_uri": "https://localhost:8080/"
        },
        "id": "CTo8rfNrcNqF",
        "outputId": "587cd747-5705-449c-96f5-9a26dc57b2fd"
      },
      "source": [
        "from transformers import pipeline\n",
        "\n",
        "nlp = pipeline(\"ner\")\n",
        "\n",
        "sequence = \"William Henry Gates III, dit Bill Gates [bɪl ɡeɪts]1, né le 28 octobre 1955 à Seattle  (État de Washington), est un informaticien, entrepreneur et milliardaire américain.\"\\\n",
        "           \"l est connu comme le fondateur de Microsoft en 1975 et son principal actionnaire jusqu’en 2014\"\n",
        "\n",
        "print(nlp(sequence))"
      ],
      "execution_count": 4,
      "outputs": [
        {
          "output_type": "stream",
          "text": [
            "[{'entity': 'I-PER', 'score': 0.9833834, 'index': 1, 'word': 'William', 'start': 0, 'end': 7}, {'entity': 'I-PER', 'score': 0.9708729, 'index': 2, 'word': 'Henry', 'start': 8, 'end': 13}, {'entity': 'I-PER', 'score': 0.9845228, 'index': 3, 'word': 'Gates', 'start': 14, 'end': 19}, {'entity': 'I-PER', 'score': 0.7777629, 'index': 4, 'word': 'III', 'start': 20, 'end': 23}, {'entity': 'I-PER', 'score': 0.988081, 'index': 8, 'word': 'Bill', 'start': 29, 'end': 33}, {'entity': 'I-PER', 'score': 0.98613477, 'index': 9, 'word': 'Gates', 'start': 34, 'end': 39}, {'entity': 'I-LOC', 'score': 0.9994245, 'index': 31, 'word': 'Seattle', 'start': 78, 'end': 85}, {'entity': 'I-LOC', 'score': 0.88363516, 'index': 33, 'word': 'É', 'start': 88, 'end': 89}, {'entity': 'I-LOC', 'score': 0.978025, 'index': 34, 'word': '##tat', 'start': 89, 'end': 92}, {'entity': 'I-LOC', 'score': 0.9898726, 'index': 35, 'word': 'de', 'start': 93, 'end': 95}, {'entity': 'I-LOC', 'score': 0.99597615, 'index': 36, 'word': 'Washington', 'start': 96, 'end': 106}, {'entity': 'I-MISC', 'score': 0.56674993, 'index': 52, 'word': '##rica', 'start': 163, 'end': 167}, {'entity': 'I-ORG', 'score': 0.9987497, 'index': 66, 'word': 'Microsoft', 'start': 204, 'end': 213}]\n"
          ],
          "name": "stdout"
        }
      ]
    },
    {
      "cell_type": "markdown",
      "metadata": {
        "id": "wp6Enr3Xi8RX"
      },
      "source": [
        "**Named entity using a model and a tokenizer**"
      ]
    },
    {
      "cell_type": "code",
      "metadata": {
        "id": "JVPIqV6PgJJr"
      },
      "source": [
        "from transformers import AutoModelForTokenClassification, AutoTokenizer\n",
        "import torch"
      ],
      "execution_count": 6,
      "outputs": []
    },
    {
      "cell_type": "code",
      "metadata": {
        "colab": {
          "base_uri": "https://localhost:8080/"
        },
        "id": "ZMIPivdzf4zg",
        "outputId": "84ac3d78-94f0-4611-b542-45568c18113f"
      },
      "source": [
        "\n",
        "\n",
        "model = AutoModelForTokenClassification.from_pretrained(\"dbmdz/bert-large-cased-finetuned-conll03-english\")\n",
        "tokenizer = AutoTokenizer.from_pretrained(\"bert-base-cased\")\n",
        "\n",
        "label_list = [\n",
        "    \"O\",       # Outside of a named entity\n",
        "    \"B-MISC\",  # Beginning of a miscellaneous entity right after another miscellaneous entity\n",
        "    \"I-MISC\",  # Miscellaneous entity\n",
        "    \"B-PER\",   # Beginning of a person's name right after another person's name\n",
        "    \"I-PER\",   # Person's name\n",
        "    \"B-ORG\",   # Beginning of an organisation right after another organisation\n",
        "    \"I-ORG\",   # Organisation\n",
        "    \"B-LOC\",   # Beginning of a location right after another location\n",
        "    \"I-LOC\"    # Location\n",
        "]\n",
        "\n",
        "\n",
        "sequence = \"William Henry Gates , dit Bill Gates, né le 28 octobre 1955 à Seattle  (État de Washington), est un informaticien, entrepreneur et milliardaire américain.\"\\\n",
        "           \"l est connu comme le fondateur de Microsoft en 1975 et son principal actionnaire jusqu’en 2014\"\n",
        "\n",
        "# Bit of a hack to get the tokens with the special tokens\n",
        "tokens = tokenizer.tokenize(tokenizer.decode(tokenizer.encode(sequence)))\n",
        "inputs = tokenizer.encode(sequence, return_tensors=\"pt\")\n",
        "\n",
        "outputs = model(inputs)[0]\n",
        "predictions = torch.argmax(outputs, dim=2)\n",
        "\n",
        "print([(token, label_list[prediction]) for token, prediction in zip(tokens, predictions[0].tolist())])\n",
        "\n",
        "# Bit of a hack to get the tokens with the special tokens\n",
        "tokens = tokenizer.tokenize(tokenizer.decode(tokenizer.encode(sequence)))\n",
        "inputs = tokenizer.encode(sequence, return_tensors=\"pt\")\n",
        "\n",
        "outputs = model(inputs)[0]\n",
        "predictions = torch.argmax(outputs, dim=2)\n",
        "\n",
        "print([(token, label_list[prediction]) for token, prediction in zip(tokens, predictions[0].tolist())])"
      ],
      "execution_count": 9,
      "outputs": [
        {
          "output_type": "stream",
          "text": [
            "[('[CLS]', 'O'), ('William', 'I-PER'), ('Henry', 'I-PER'), ('Gates', 'I-PER'), (',', 'O'), ('di', 'O'), ('##t', 'O'), ('Bill', 'I-PER'), ('Gates', 'I-PER'), (',', 'O'), ('n', 'O'), ('##é', 'O'), ('le', 'O'), ('28', 'O'), ('o', 'O'), ('##ct', 'O'), ('##ob', 'O'), ('##re', 'O'), ('1955', 'O'), ('à', 'O'), ('Seattle', 'I-LOC'), ('(', 'O'), ('É', 'I-LOC'), ('##tat', 'I-LOC'), ('de', 'I-LOC'), ('Washington', 'I-LOC'), (')', 'O'), (',', 'O'), ('est', 'O'), ('un', 'O'), ('inform', 'O'), ('##atic', 'O'), ('##ien', 'O'), (',', 'O'), ('entrepreneur', 'O'), ('et', 'O'), ('mill', 'O'), ('##iard', 'O'), ('##aire', 'O'), ('am', 'O'), ('##é', 'O'), ('##rica', 'I-MISC'), ('##in', 'O'), ('.', 'O'), ('l', 'O'), ('est', 'O'), ('con', 'O'), ('##nu', 'O'), ('com', 'O'), ('##me', 'O'), ('le', 'O'), ('fond', 'O'), ('##ate', 'O'), ('##ur', 'O'), ('de', 'O'), ('Microsoft', 'I-ORG'), ('en', 'O'), ('1975', 'O'), ('et', 'O'), ('son', 'O'), ('principal', 'O'), ('action', 'O'), ('##naire', 'O'), ('j', 'O'), ('##us', 'O'), ('##q', 'O'), ('##u', 'O'), ('’', 'O'), ('en', 'O'), ('2014', 'O'), ('[SEP]', 'O')]\n",
            "[('[CLS]', 'O'), ('William', 'I-PER'), ('Henry', 'I-PER'), ('Gates', 'I-PER'), (',', 'O'), ('di', 'O'), ('##t', 'O'), ('Bill', 'I-PER'), ('Gates', 'I-PER'), (',', 'O'), ('n', 'O'), ('##é', 'O'), ('le', 'O'), ('28', 'O'), ('o', 'O'), ('##ct', 'O'), ('##ob', 'O'), ('##re', 'O'), ('1955', 'O'), ('à', 'O'), ('Seattle', 'I-LOC'), ('(', 'O'), ('É', 'I-LOC'), ('##tat', 'I-LOC'), ('de', 'I-LOC'), ('Washington', 'I-LOC'), (')', 'O'), (',', 'O'), ('est', 'O'), ('un', 'O'), ('inform', 'O'), ('##atic', 'O'), ('##ien', 'O'), (',', 'O'), ('entrepreneur', 'O'), ('et', 'O'), ('mill', 'O'), ('##iard', 'O'), ('##aire', 'O'), ('am', 'O'), ('##é', 'O'), ('##rica', 'I-MISC'), ('##in', 'O'), ('.', 'O'), ('l', 'O'), ('est', 'O'), ('con', 'O'), ('##nu', 'O'), ('com', 'O'), ('##me', 'O'), ('le', 'O'), ('fond', 'O'), ('##ate', 'O'), ('##ur', 'O'), ('de', 'O'), ('Microsoft', 'I-ORG'), ('en', 'O'), ('1975', 'O'), ('et', 'O'), ('son', 'O'), ('principal', 'O'), ('action', 'O'), ('##naire', 'O'), ('j', 'O'), ('##us', 'O'), ('##q', 'O'), ('##u', 'O'), ('’', 'O'), ('en', 'O'), ('2014', 'O'), ('[SEP]', 'O')]\n"
          ],
          "name": "stdout"
        }
      ]
    },
    {
      "cell_type": "code",
      "metadata": {
        "id": "kMAddlRtcNRK"
      },
      "source": [
        ""
      ],
      "execution_count": null,
      "outputs": []
    }
  ]
}